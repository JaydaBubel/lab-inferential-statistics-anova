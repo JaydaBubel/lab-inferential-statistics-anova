{
  "nbformat": 4,
  "nbformat_minor": 0,
  "metadata": {
    "colab": {
      "provenance": [],
      "mount_file_id": "1Up5DWXeM87JtM3zZpkCZz0hE-9kxA055",
      "authorship_tag": "ABX9TyP3kquwhIYANH3JdnABy1Cm",
      "include_colab_link": true
    },
    "kernelspec": {
      "name": "python3",
      "display_name": "Python 3"
    },
    "language_info": {
      "name": "python"
    }
  },
  "cells": [
    {
      "cell_type": "markdown",
      "metadata": {
        "id": "view-in-github",
        "colab_type": "text"
      },
      "source": [
        "<a href=\"https://colab.research.google.com/github/JaydaBubel/lab-inferential-statistics-anova/blob/master/lab_inferential_statistics_anova.ipynb\" target=\"_parent\"><img src=\"https://colab.research.google.com/assets/colab-badge.svg\" alt=\"Open In Colab\"/></a>"
      ]
    },
    {
      "cell_type": "markdown",
      "source": [
        "**Part 1**\n",
        "\n",
        "In this activity, we will look at another example. Your task is to understand the problem and write down all the steps to set up ANOVA. After the next lesson, we will ask you to solve this problem using Python. Here are the steps that you would need to work on:\n",
        "- Null hypothesis\n",
        "- Alternate hypothesis\n",
        "- Level of significance\n",
        "- Test statistic\n",
        "- P-value\n",
        "- F table\n",
        "\n",
        "**Context**\n",
        "\n",
        "Suppose you are working as an analyst in a microprocessor chip manufacturing plant. You have been given the task of analyzing a plasma etching process with respect to changing Power (in Watts) of the plasma beam. Data was collected and provided to you to conduct statistical analysis and check if changing the power of the plasma beam has any effect on the etching rate by the machine. You will conduct ANOVA and check if there is any difference in the mean etching rate for different levels of power. You can find the data anova_lab_data.xlsx file in the files_for_lab folder\n",
        "\n",
        "- State the null hypothesis: in this case, there is no significant difference in mean etching rate among different power levels- changing the power level of the plasma beam should not affect etching rate.\n",
        "- State the alternate hypothesis: that there is a significant difference in mean etching rate among different power levels.\n",
        "- What is the significance level: typical choices for\n",
        "α are 0.05 (5%) or 0.01 (1%)\n",
        "- What are the degrees of freedom of model: with three power levels (160 W, 180 W, 200 W), DFm is 2.\n",
        "- error terms: how many data points left over; all data points added and # of groups subtracted\n",
        "- total DoF: degrees of freedom model plus error terms\n"
      ],
      "metadata": {
        "id": "nT06YzvuWuJ_"
      }
    },
    {
      "cell_type": "code",
      "source": [],
      "metadata": {
        "id": "56jPKhr-iGBg"
      },
      "execution_count": null,
      "outputs": []
    },
    {
      "cell_type": "markdown",
      "source": [
        "**Part 2**\n",
        "\n",
        "In this section, use Python to conduct ANOVA.\n",
        "What conclusions can you draw from the experiment and why?"
      ],
      "metadata": {
        "id": "rNRTN9AeWwBa"
      }
    },
    {
      "cell_type": "code",
      "source": [
        "import pandas as pd\n",
        "from scipy import stats"
      ],
      "metadata": {
        "id": "U7r49iG2f71P"
      },
      "execution_count": 13,
      "outputs": []
    },
    {
      "cell_type": "code",
      "source": [
        "data = pd.read_excel('/content/drive/MyDrive/anova_lab_data.xlsx')\n",
        "print(data)"
      ],
      "metadata": {
        "colab": {
          "base_uri": "https://localhost:8080/"
        },
        "id": "qEJeKZHugC-1",
        "outputId": "67e5123d-8aff-4e41-e8eb-75bfee054d57"
      },
      "execution_count": 14,
      "outputs": [
        {
          "output_type": "stream",
          "name": "stdout",
          "text": [
            "   Power   Etching Rate\n",
            "0   160 W          5.43\n",
            "1   180 W          6.24\n",
            "2   200 W          8.79\n",
            "3   160 W          5.71\n",
            "4   180 W          6.71\n",
            "5   200 W          9.20\n",
            "6   160 W          6.22\n",
            "7   180 W          5.98\n",
            "8   200 W          7.90\n",
            "9   160 W          6.01\n",
            "10  180 W          5.66\n",
            "11  200 W          8.15\n",
            "12  160 W          5.59\n",
            "13  180 W          6.60\n",
            "14  200 W          7.55\n"
          ]
        }
      ]
    },
    {
      "cell_type": "code",
      "source": [
        "print(data.columns)"
      ],
      "metadata": {
        "colab": {
          "base_uri": "https://localhost:8080/"
        },
        "id": "tqhjBNDPg2Mj",
        "outputId": "09fd3a1b-23f8-4f20-bba1-104444993a29"
      },
      "execution_count": 15,
      "outputs": [
        {
          "output_type": "stream",
          "name": "stdout",
          "text": [
            "Index(['Power ', 'Etching Rate'], dtype='object')\n"
          ]
        }
      ]
    },
    {
      "cell_type": "code",
      "source": [
        "groups = data['Power ']\n",
        "etching_rates = data['Etching Rate']\n",
        "F_statistic, p_value = stats.f_oneway(*[etching_rates[groups == group] for group in groups.unique()])\n",
        "print(\"F-statistic:\", F_statistic)\n",
        "print(\"P-value:\", p_value)"
      ],
      "metadata": {
        "colab": {
          "base_uri": "https://localhost:8080/"
        },
        "id": "kP3CNlFTgokJ",
        "outputId": "fa0686f6-9de6-45b0-ca96-cea49a603202"
      },
      "execution_count": 16,
      "outputs": [
        {
          "output_type": "stream",
          "name": "stdout",
          "text": [
            "F-statistic: 36.87895470100505\n",
            "P-value: 7.506584272358903e-06\n"
          ]
        }
      ]
    },
    {
      "cell_type": "markdown",
      "source": [
        "F-statistic: 36.88 - This number checks if there's a sig. difference between etching rates at different power levels. Higher values suggest bigger differences.\n",
        "\n",
        "P-value: 7.51... - This small number means there's strong evidence that power levels do affect etching rates. If it's smaller than 0.05, it's prob. significant."
      ],
      "metadata": {
        "id": "ZDkvxPbGhiCP"
      }
    },
    {
      "cell_type": "code",
      "source": [
        "alpha = 0.05\n",
        "if p_value < alpha:\n",
        "    print(\"Reject null hypothesis - There is significant difference in mean etching rates.\")\n",
        "else:\n",
        "    print(\"Fail to reject null hypothesis - No significant difference in mean etching rates.\")"
      ],
      "metadata": {
        "colab": {
          "base_uri": "https://localhost:8080/"
        },
        "id": "a2yJgX31hMld",
        "outputId": "6bf6a113-314d-4a25-f3dd-b42f030d15b9"
      },
      "execution_count": 17,
      "outputs": [
        {
          "output_type": "stream",
          "name": "stdout",
          "text": [
            "Reject null hypothesis - There is significant difference in mean etching rates.\n"
          ]
        }
      ]
    }
  ]
}